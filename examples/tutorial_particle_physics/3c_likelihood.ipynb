{
 "cells": [
  {
   "cell_type": "markdown",
   "metadata": {},
   "source": [
    "# MadMiner physics tutorial (part 3C)\n",
    "\n",
    "Johann Brehmer, Felix Kling, Irina Espejo, and Kyle Cranmer 2018-2019"
   ]
  },
  {
   "cell_type": "markdown",
   "metadata": {},
   "source": [
    "In part 3C of this tutorial we will train a third neural estimator: this time of the likelihood function itself (rather than its ratio). We assume that you have run part 1 and 2A of this tutorial. If, instead of 2A, you have run part 2B, you just have to load a different filename later."
   ]
  },
  {
   "cell_type": "markdown",
   "metadata": {},
   "source": [
    "## Preparations"
   ]
  },
  {
   "cell_type": "code",
   "execution_count": 1,
   "metadata": {},
   "outputs": [],
   "source": [
    "import logging\n",
    "import numpy as np\n",
    "import matplotlib\n",
    "from matplotlib import pyplot as plt\n",
    "\n",
    "%matplotlib inline\n",
    "\n",
    "from madminer.sampling import SampleAugmenter\n",
    "from madminer import sampling\n",
    "from madminer.ml import LikelihoodEstimator"
   ]
  },
  {
   "cell_type": "code",
   "execution_count": 2,
   "metadata": {},
   "outputs": [],
   "source": [
    "# MadMiner output\n",
    "logging.basicConfig(\n",
    "    format=\"%(asctime)-5.5s %(name)-20.20s %(levelname)-7.7s %(message)s\",\n",
    "    datefmt=\"%H:%M\",\n",
    "    level=logging.INFO,\n",
    ")\n",
    "\n",
    "# Output of all other modules (e.g. matplotlib)\n",
    "for key in logging.Logger.manager.loggerDict:\n",
    "    if \"madminer\" not in key:\n",
    "        logging.getLogger(key).setLevel(logging.WARNING)"
   ]
  },
  {
   "cell_type": "markdown",
   "metadata": {},
   "source": [
    "## 1. Make (unweighted) training and test samples with augmented data"
   ]
  },
  {
   "cell_type": "markdown",
   "metadata": {},
   "source": [
    "At this point, we have all the information we need from the simulations. But the data is not quite ready to be used for machine learning. The `madminer.sampling` class `SampleAugmenter` will take care of the remaining book-keeping steps before we can train our estimators:\n",
    "\n",
    "First, it unweights the samples, i.e. for a given parameter vector `theta` (or a distribution `p(theta)`) it picks events `x` such that their distribution follows `p(x|theta)`. The selected samples will all come from the event file we have so far, but their frequency is changed -- some events will appear multiple times, some will disappear.\n",
    "\n",
    "Second, `SampleAugmenter` calculates all the augmented data (\"gold\") that is the key to our new inference methods. Depending on the specific technique, these are the joint likelihood ratio and / or the joint score. It saves all these pieces of information for the selected events in a set of numpy files that can easily be used in any machine learning framework."
   ]
  },
  {
   "cell_type": "code",
   "execution_count": 3,
   "metadata": {},
   "outputs": [
    {
     "name": "stderr",
     "output_type": "stream",
     "text": [
      "16:11 madminer.analysis.da INFO    Loading data from data/delphes_data_shuffled.h5\n",
      "16:11 madminer.utils.inter INFO    HDF5 file does not contain nuisance parameters information\n",
      "16:11 madminer.utils.inter INFO    HDF5 file does not contain finite difference information\n",
      "16:11 madminer.utils.inter INFO    HDF5 file does not contain systematic information\n",
      "16:11 madminer.analysis.da INFO    Found 2 parameters\n",
      "16:11 madminer.analysis.da INFO      0: CWL2 (LHA: dim6 2, Power: 2, Range: (-20.0, 20.0))\n",
      "16:11 madminer.analysis.da INFO      1: CPWL2 (LHA: dim6 5, Power: 2, Range: (-20.0, 20.0))\n",
      "16:11 madminer.analysis.da INFO    Did not find nuisance parameters\n",
      "16:11 madminer.analysis.da INFO    Found 6 benchmarks\n",
      "16:11 madminer.analysis.da INFO    Found 3 observables\n",
      "16:11 madminer.analysis.da INFO    Found 4190 events\n",
      "16:11 madminer.analysis.da INFO      4190 signal events sampled from benchmark sm\n",
      "16:11 madminer.analysis.da INFO      0 signal events sampled from benchmark w\n",
      "16:11 madminer.analysis.da INFO      0 signal events sampled from benchmark neg_w\n",
      "16:11 madminer.analysis.da INFO      0 signal events sampled from benchmark ww\n",
      "16:11 madminer.analysis.da INFO      0 signal events sampled from benchmark neg_ww\n",
      "16:11 madminer.analysis.da INFO      0 signal events sampled from benchmark morphing_basis_vector_5\n",
      "16:11 madminer.analysis.da INFO    Found morphing setup with 6 components\n",
      "16:11 madminer.analysis.da INFO    Did not find nuisance morphing setup\n"
     ]
    }
   ],
   "source": [
    "#sampler = SampleAugmenter(\"data/lhe_data_shuffled.h5\")\n",
    "sampler = SampleAugmenter('data/delphes_data_shuffled.h5')"
   ]
  },
  {
   "cell_type": "markdown",
   "metadata": {},
   "source": [
    "The `SampleAugmenter` class defines five different high-level functions to generate train or test samples:\n",
    "- `sample_train_plain()`, which only saves observations x, for instance for histograms or ABC;\n",
    "- `sample_train_local()` for methods like SALLY and SALLINO, which will be demonstrated in the second part of the tutorial;\n",
    "- `sample_train_density()` for neural density estimation techniques like MAF or SCANDAL;\n",
    "- `sample_train_ratio()` for techniques like CARL, ROLR, CASCAL, and RASCAL, when only theta0 is parameterized;\n",
    "- `sample_train_more_ratios()` for the same techniques, but with both theta0 and theta1 parameterized;\n",
    "- `sample_test()` for the evaluation of any method.\n",
    "\n",
    "For the arguments `theta`, `theta0`, or `theta1`, you can (and should!) use the helper functions `benchmark()`, `benchmarks()`, `morphing_point()`, `morphing_points()`, and `random_morphing_points()`, all defined in the `madminer.sampling` module.\n",
    "\n",
    "Here we'll train a likelihood estimator with the SCANDAL method, so we focus on the `extract_samples_train_density()` function. We'll sample the numerator hypothesis in the likelihood ratio with 1000 points drawn from a Gaussian prior, and fix the denominator hypothesis to the SM.\n",
    "\n",
    "Note the keyword `sample_only_from_closest_benchmark=True`, which makes sure that for each parameter point we only use the events that were originally (in MG) generated from the closest benchmark. This reduces the statistical fluctuations in the outcome quite a bit."
   ]
  },
  {
   "cell_type": "code",
   "execution_count": 4,
   "metadata": {},
   "outputs": [
    {
     "name": "stderr",
     "output_type": "stream",
     "text": [
      "16:11 madminer.sampling.sa INFO    Extracting training sample for non-local score-based methods. Sampling and score evaluation according to ('random_morphing_points', (10000, [('gaussian', 0.0, 0.5), ('gaussian', 0.0, 0.5)]))\n",
      "16:11 madminer.sampling.sa INFO    Starting sampling serially\n",
      "16:11 madminer.sampling.sa WARNING Large statistical uncertainty on the total cross section when sampling from theta = [-0.7189592 -0.6616956]: (0.000699 +/- 0.000338) pb (48.35842327320853 %). Skipping these warnings in the future...\n",
      "16:11 madminer.sampling.sa INFO    Sampling from parameter point 500 / 10000\n",
      "16:12 madminer.sampling.sa INFO    Sampling from parameter point 1000 / 10000\n",
      "16:12 madminer.sampling.sa INFO    Sampling from parameter point 1500 / 10000\n",
      "16:12 madminer.sampling.sa INFO    Sampling from parameter point 2000 / 10000\n",
      "16:12 madminer.sampling.sa INFO    Sampling from parameter point 2500 / 10000\n",
      "16:12 madminer.sampling.sa INFO    Sampling from parameter point 3000 / 10000\n",
      "16:12 madminer.sampling.sa INFO    Sampling from parameter point 3500 / 10000\n",
      "16:12 madminer.sampling.sa INFO    Sampling from parameter point 4000 / 10000\n",
      "16:12 madminer.sampling.sa INFO    Sampling from parameter point 4500 / 10000\n",
      "16:12 madminer.sampling.sa INFO    Sampling from parameter point 5000 / 10000\n",
      "16:12 madminer.sampling.sa INFO    Sampling from parameter point 5500 / 10000\n",
      "16:12 madminer.sampling.sa INFO    Sampling from parameter point 6000 / 10000\n",
      "16:12 madminer.sampling.sa INFO    Sampling from parameter point 6500 / 10000\n",
      "16:12 madminer.sampling.sa INFO    Sampling from parameter point 7000 / 10000\n",
      "16:12 madminer.sampling.sa INFO    Sampling from parameter point 7500 / 10000\n",
      "16:12 madminer.sampling.sa INFO    Sampling from parameter point 8000 / 10000\n",
      "16:13 madminer.sampling.sa INFO    Sampling from parameter point 8500 / 10000\n",
      "16:13 madminer.sampling.sa INFO    Sampling from parameter point 9000 / 10000\n",
      "16:13 madminer.sampling.sa INFO    Sampling from parameter point 9500 / 10000\n",
      "16:13 madminer.sampling.sa INFO    Sampling from parameter point 10000 / 10000\n",
      "16:13 madminer.sampling.sa INFO    Effective number of samples: mean 359.62397811220967, with individual thetas ranging from 15.348518903825441 to 2410.7924842070674\n"
     ]
    }
   ],
   "source": [
    "x, theta, t_xz, _ = sampler.sample_train_density(\n",
    "    theta=sampling.random_morphing_points(10000, [(\"gaussian\", 0.0, 0.5), (\"gaussian\", 0.0, 0.5)]),\n",
    "    n_samples=500000,\n",
    "    folder=\"./data/samples\",\n",
    "    filename=\"train_density\",\n",
    "    sample_only_from_closest_benchmark=True,\n",
    ")"
   ]
  },
  {
   "cell_type": "markdown",
   "metadata": {},
   "source": [
    "For the evaluation we'll need a test sample:"
   ]
  },
  {
   "cell_type": "code",
   "execution_count": 5,
   "metadata": {
    "scrolled": true
   },
   "outputs": [
    {
     "name": "stderr",
     "output_type": "stream",
     "text": [
      "16:15 madminer.sampling.sa INFO    Extracting evaluation sample. Sampling according to sm\n",
      "16:15 madminer.sampling.sa INFO    Starting sampling serially\n",
      "16:15 madminer.sampling.sa INFO    Sampling from parameter point 1 / 1\n",
      "16:15 madminer.sampling.sa INFO    Effective number of samples: mean 836.9999999999999, with individual thetas ranging from 836.9999999999999 to 836.9999999999999\n"
     ]
    }
   ],
   "source": [
    "_ = sampler.sample_test(\n",
    "    theta=sampling.benchmark(\"sm\"),\n",
    "    n_samples=1000,\n",
    "    folder=\"./data/samples\",\n",
    "    filename=\"test\",\n",
    ")"
   ]
  },
  {
   "cell_type": "markdown",
   "metadata": {},
   "source": [
    "## 2. Train likelihood estimator"
   ]
  },
  {
   "cell_type": "markdown",
   "metadata": {},
   "source": [
    "It's now time to build the neural network that estimates the likelihood ratio. The central object for this is the `madminer.ml.ParameterizedRatioEstimator` class. It defines functions that train, save, load, and evaluate the estimators.\n",
    "\n",
    "In the initialization, the keywords `n_hidden` and `activation` define the architecture of the (fully connected) neural network:"
   ]
  },
  {
   "cell_type": "code",
   "execution_count": 6,
   "metadata": {},
   "outputs": [],
   "source": [
    "estimator = LikelihoodEstimator(n_mades=3, n_hidden=(60, 60), activation=\"relu\")"
   ]
  },
  {
   "cell_type": "markdown",
   "metadata": {},
   "source": [
    "To train this model we will minimize the SCANDAL loss function described in [\"Mining gold from implicit models to improve likelihood-free inference\"](https://arxiv.org/abs/1805.12244)."
   ]
  },
  {
   "cell_type": "code",
   "execution_count": 7,
   "metadata": {},
   "outputs": [
    {
     "name": "stderr",
     "output_type": "stream",
     "text": [
      "16:15 madminer.ml.likeliho INFO    Starting training\n",
      "16:15 madminer.ml.likeliho INFO      Method:                 scandal\n",
      "16:15 madminer.ml.likeliho INFO      alpha:                  10.0\n",
      "16:15 madminer.ml.likeliho INFO      Batch size:             128\n",
      "16:15 madminer.ml.likeliho INFO      Optimizer:              amsgrad\n",
      "16:15 madminer.ml.likeliho INFO      Epochs:                 10\n",
      "16:15 madminer.ml.likeliho INFO      Learning rate:          0.01 initially, decaying to 0.0001\n",
      "16:15 madminer.ml.likeliho INFO      Validation split:       0.25\n",
      "16:15 madminer.ml.likeliho INFO      Early stopping:         True\n",
      "16:15 madminer.ml.likeliho INFO      Scale inputs:           True\n",
      "16:15 madminer.ml.likeliho INFO      Shuffle labels          False\n",
      "16:15 madminer.ml.likeliho INFO      Samples:                all\n",
      "16:15 madminer.ml.likeliho INFO    Loading training data\n",
      "16:15 madminer.utils.vario INFO      Loading data/samples/theta_train_density.npy into RAM\n",
      "16:15 madminer.utils.vario INFO      Loading data/samples/x_train_density.npy into RAM\n",
      "16:15 madminer.utils.vario INFO      Loading data/samples/t_xz_train_density.npy into RAM\n",
      "16:15 madminer.ml.likeliho INFO    Found 500000 samples with 2 parameters and 3 observables\n",
      "16:15 madminer.ml.base     INFO    Setting up input rescaling\n",
      "16:15 madminer.ml.likeliho INFO    Rescaling parameters\n",
      "16:15 madminer.ml.base     INFO    Setting up parameter rescaling\n",
      "16:15 madminer.ml.likeliho INFO    Training model\n",
      "16:15 madminer.utils.ml.tr INFO    Training on CPU with single precision\n",
      "16:15 madminer.utils.ml.tr INFO      Epoch   1: train loss  5.47317 (nll:  4.343, mse_score:  0.113)\n",
      "16:15 madminer.utils.ml.tr INFO                 val. loss   5.07915 (nll:  4.343, mse_score:  0.113)\n",
      "16:16 madminer.utils.ml.tr INFO      Epoch   2: train loss  5.10800 (nll:  4.167, mse_score:  0.094)\n",
      "16:16 madminer.utils.ml.tr INFO                 val. loss   5.04641 (nll:  4.167, mse_score:  0.094)\n",
      "16:17 madminer.utils.ml.tr INFO      Epoch   3: train loss  5.04680 (nll:  4.148, mse_score:  0.090)\n",
      "16:17 madminer.utils.ml.tr INFO                 val. loss   4.99750 (nll:  4.148, mse_score:  0.090)\n",
      "16:17 madminer.utils.ml.tr INFO      Epoch   4: train loss  5.01086 (nll:  4.141, mse_score:  0.087)\n",
      "16:17 madminer.utils.ml.tr INFO                 val. loss   4.96665 (nll:  4.141, mse_score:  0.087)\n",
      "16:18 madminer.utils.ml.tr INFO      Epoch   5: train loss  4.99190 (nll:  4.136, mse_score:  0.086)\n",
      "16:18 madminer.utils.ml.tr INFO                 val. loss   4.95806 (nll:  4.136, mse_score:  0.086)\n",
      "16:19 madminer.utils.ml.tr INFO      Epoch   6: train loss  4.97691 (nll:  4.134, mse_score:  0.084)\n",
      "16:19 madminer.utils.ml.tr INFO                 val. loss   4.94276 (nll:  4.134, mse_score:  0.084)\n",
      "16:19 madminer.utils.ml.tr INFO      Epoch   7: train loss  4.96144 (nll:  4.132, mse_score:  0.083)\n",
      "16:19 madminer.utils.ml.tr INFO                 val. loss   4.92983 (nll:  4.132, mse_score:  0.083)\n",
      "16:20 madminer.utils.ml.tr INFO      Epoch   8: train loss  4.94795 (nll:  4.131, mse_score:  0.082)\n",
      "16:20 madminer.utils.ml.tr INFO                 val. loss   4.92247 (nll:  4.131, mse_score:  0.082)\n",
      "16:20 madminer.utils.ml.tr INFO      Epoch   9: train loss  4.94233 (nll:  4.129, mse_score:  0.081)\n",
      "16:20 madminer.utils.ml.tr INFO                 val. loss   4.92005 (nll:  4.129, mse_score:  0.081)\n",
      "16:21 madminer.utils.ml.tr INFO      Epoch  10: train loss  4.93937 (nll:  4.128, mse_score:  0.081)\n",
      "16:21 madminer.utils.ml.tr INFO                 val. loss   4.91552 (nll:  4.128, mse_score:  0.081)\n",
      "16:21 madminer.utils.ml.tr INFO    Early stopping did not improve performance\n",
      "16:21 madminer.utils.ml.tr INFO    Training time spend on:\n",
      "16:21 madminer.utils.ml.tr INFO                      initialize model:   0.00h\n",
      "16:21 madminer.utils.ml.tr INFO                                   ALL:   0.10h\n",
      "16:21 madminer.utils.ml.tr INFO                            check data:   0.00h\n",
      "16:21 madminer.utils.ml.tr INFO                          make dataset:   0.00h\n",
      "16:21 madminer.utils.ml.tr INFO                       make dataloader:   0.00h\n",
      "16:21 madminer.utils.ml.tr INFO                       setup optimizer:   0.00h\n",
      "16:21 madminer.utils.ml.tr INFO                   initialize training:   0.00h\n",
      "16:21 madminer.utils.ml.tr INFO                                set lr:   0.00h\n",
      "16:21 madminer.utils.ml.tr INFO                   load training batch:   0.01h\n",
      "16:21 madminer.utils.ml.tr INFO                        fwd: move data:   0.00h\n",
      "16:21 madminer.utils.ml.tr INFO                   fwd: check for nans:   0.00h\n",
      "16:21 madminer.utils.ml.tr INFO                    fwd: model.forward:   0.03h\n",
      "16:21 madminer.utils.ml.tr INFO                 fwd: calculate losses:   0.00h\n",
      "16:21 madminer.utils.ml.tr INFO                 training forward pass:   0.03h\n",
      "16:21 madminer.utils.ml.tr INFO                   training sum losses:   0.00h\n",
      "16:21 madminer.utils.ml.tr INFO                        opt: zero grad:   0.00h\n",
      "16:21 madminer.utils.ml.tr INFO                         opt: backward:   0.03h\n",
      "16:21 madminer.utils.ml.tr INFO                   opt: clip grad norm:   0.00h\n",
      "16:21 madminer.utils.ml.tr INFO                             opt: step:   0.02h\n",
      "16:21 madminer.utils.ml.tr INFO                        optimizer step:   0.05h\n",
      "16:21 madminer.utils.ml.tr INFO                 load validation batch:   0.01h\n",
      "16:21 madminer.utils.ml.tr INFO               validation forward pass:   0.01h\n",
      "16:21 madminer.utils.ml.tr INFO                 validation sum losses:   0.00h\n",
      "16:21 madminer.utils.ml.tr INFO                        early stopping:   0.00h\n",
      "16:21 madminer.utils.ml.tr INFO                          report epoch:   0.00h\n",
      "16:21 madminer.ml.base     INFO    Saving model to models/scandal\n"
     ]
    }
   ],
   "source": [
    "estimator.train(\n",
    "    method=\"scandal\",\n",
    "    theta=\"data/samples/theta_train_density.npy\",\n",
    "    x=\"data/samples/x_train_density.npy\",\n",
    "    t_xz=\"data/samples/t_xz_train_density.npy\",\n",
    "    alpha=10.0,\n",
    "    n_epochs=10,\n",
    "    initial_lr=0.01,\n",
    ")\n",
    "\n",
    "estimator.save(\"models/scandal\")"
   ]
  },
  {
   "cell_type": "markdown",
   "metadata": {},
   "source": [
    "(nll:  3.830, mse_score:  0.064"
   ]
  },
  {
   "cell_type": "markdown",
   "metadata": {},
   "source": [
    "## 3. Evaluate likelihood estimator"
   ]
  },
  {
   "cell_type": "markdown",
   "metadata": {},
   "source": [
    "`estimator.evaluate_log_likelihood(theta,x)` estimated the log likelihood for all combination between the given phase-space points `x` and parameters `theta`. That is, if given 100 events `x` and a grid of 25 `theta` points, it will return 25\\*100 estimates for the log likelihood, indexed by `[i_theta,i_x]`."
   ]
  },
  {
   "cell_type": "code",
   "execution_count": 8,
   "metadata": {},
   "outputs": [],
   "source": [
    "theta_each = np.linspace(-1.0, 1.0, 25)\n",
    "theta0, theta1 = np.meshgrid(theta_each, theta_each)\n",
    "theta_grid = np.vstack((theta0.flatten(), theta1.flatten())).T\n",
    "np.save(\"data/samples/theta_grid.npy\", theta_grid)"
   ]
  },
  {
   "cell_type": "code",
   "execution_count": 9,
   "metadata": {},
   "outputs": [
    {
     "name": "stderr",
     "output_type": "stream",
     "text": [
      "16:21 madminer.ml.base     INFO    Loading model from models/scandal\n",
      "16:21 madminer.utils.vario INFO      Loading data/samples/theta_grid.npy into RAM\n",
      "16:21 madminer.utils.vario INFO      Loading data/samples/x_test.npy into RAM\n"
     ]
    }
   ],
   "source": [
    "estimator.load(\"models/scandal\")\n",
    "\n",
    "log_p_hat, _ = estimator.evaluate_log_likelihood(\n",
    "    theta=\"data/samples/theta_grid.npy\",\n",
    "    x=\"data/samples/x_test.npy\",\n",
    "    evaluate_score=False,\n",
    ")"
   ]
  },
  {
   "cell_type": "markdown",
   "metadata": {},
   "source": [
    "Let's look at the result:"
   ]
  },
  {
   "cell_type": "code",
   "execution_count": 10,
   "metadata": {},
   "outputs": [
    {
     "data": {
      "image/png": "[encoded data removed]",
      "text/plain": [
       "<Figure size 600x500 with 2 Axes>"
      ]
     },
     "metadata": {},
     "output_type": "display_data"
    }
   ],
   "source": [
    "bin_size = theta_each[1] - theta_each[0]\n",
    "edges = np.linspace(\n",
    "    theta_each[0] - bin_size / 2,\n",
    "    theta_each[-1] + bin_size / 2,\n",
    "    len(theta_each) + 1,\n",
    ")\n",
    "\n",
    "fig = plt.figure(figsize=(6, 5))\n",
    "ax = plt.gca()\n",
    "\n",
    "expected_llr = np.mean(log_p_hat, axis=1)\n",
    "best_fit = theta_grid[np.argmin(-2.0 * expected_llr)]\n",
    "\n",
    "cmin = np.min(-2 * expected_llr)\n",
    "cmax = np.max(-2 * expected_llr)\n",
    "\n",
    "pcm = ax.pcolormesh(\n",
    "    edges,\n",
    "    edges,\n",
    "    -2.0 * expected_llr.reshape((25, 25)),\n",
    "    norm=matplotlib.colors.Normalize(vmin=cmin, vmax=cmax),\n",
    "    cmap=\"viridis_r\",\n",
    ")\n",
    "\n",
    "cbar = fig.colorbar(pcm, ax=ax, extend=\"both\")\n",
    "\n",
    "plt.scatter(\n",
    "    best_fit[0],\n",
    "    best_fit[1],\n",
    "    s=80.0,\n",
    "    color=\"black\",\n",
    "    marker=\"*\",\n",
    ")\n",
    "\n",
    "plt.xlabel(r\"$\\theta_0$\")\n",
    "plt.ylabel(r\"$\\theta_1$\")\n",
    "cbar.set_label(r\"$\\mathbb{E}_x [ -2\\, \\log \\,\\hat{r}(x | \\theta, \\theta_{SM}) ]$\")\n",
    "\n",
    "plt.tight_layout()\n",
    "plt.show()"
   ]
  },
  {
   "cell_type": "markdown",
   "metadata": {},
   "source": [
    "Note that in this tutorial our sample size was very small, and the network might not really have a chance to converge to the correct likelihood function. So don't worry if you find a minimum that is not at the right point (the SM, i.e. the origin in this plot). Feel free to dial up the event numbers in the run card as well as the training samples and see what happens then!"
   ]
  }
 ],
 "metadata": {
  "kernelspec": {
   "display_name": "Python 3 (ipykernel)",
   "language": "python",
   "name": "python3"
  },
  "language_info": {
   "codemirror_mode": {
    "name": "ipython",
    "version": 3
   },
   "file_extension": ".py",
   "mimetype": "text/x-python",
   "name": "python",
   "nbconvert_exporter": "python",
   "pygments_lexer": "ipython3",
   "version": "3.9.13"
  }
 },
 "nbformat": 4,
 "nbformat_minor": 4
}
